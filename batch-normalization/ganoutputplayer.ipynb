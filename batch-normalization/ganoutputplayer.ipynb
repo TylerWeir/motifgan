{
 "cells": [
  {
   "cell_type": "code",
   "execution_count": null,
   "id": "4e547728",
   "metadata": {},
   "outputs": [],
   "source": [
    "import librosa\n",
    "import numpy as np\n",
    "from IPython.display import Audio\n",
    "import librosa.display\n",
    "import matplotlib.pyplot as plt"
   ]
  },
  {
   "cell_type": "markdown",
   "id": "53b588dd",
   "metadata": {},
   "source": []
  },
  {
   "cell_type": "markdown",
   "id": "ef83cf75",
   "metadata": {},
   "source": [
    "### Plays and plots the complex number based GAN output"
   ]
  },
  {
   "cell_type": "code",
   "execution_count": null,
   "id": "8b4f6f76",
   "metadata": {},
   "outputs": [],
   "source": [
    "sample = np.load(\"data.npy\")[0]\n",
    "print(sample[0][0])\n",
    "des = np.zeros([256, 128], dtype=np.complex64)\n",
    "\n",
    "for i in range(len(sample)):\n",
    "    for k in range(len(sample[0])):\n",
    "        des[i][k] = complex(sample[i][k][0], sample[i][k][1])\n",
    "\n",
    "res = librosa.istft(des)\n",
    "\n",
    "# convert the slices to amplitude\n",
    "sgram_db = librosa.amplitude_to_db(abs(des))\n",
    "\n",
    "_, ax = plt.subplots(figsize=(5, 5))\n",
    "\n",
    "librosa.display.specshow(sgram_db, sr=4096, x_axis='time',  ax=ax, cmap='gray')\n",
    "\n",
    "\n",
    "# We'll need IPython.display's Audio widget\n",
    "from IPython.display import Audio\n",
    "\n",
    "Audio(data=res, rate=22050)\n"
   ]
  },
  {
   "cell_type": "code",
   "execution_count": null,
   "id": "12dc0ef0",
   "metadata": {},
   "outputs": [],
   "source": [
    " sample = np.load(\"\")\n",
    "            \n",
    "# Save the numpy array\n",
    "np.save(f\"output-arrays/epoch_{epoch+1}_sample_{i}.npy\", sample)\n",
    "            \n",
    "# Save a spectrogram\n",
    "des = np.zeros([256, 128], dtype=np.complex64)\n",
    "\n",
    "for i in range(len(sample)):\n",
    "    for k in range(len(sample[0])):\n",
    "        des[i][k] = complex(sample[i][k][0], sample[i][k][1])\n",
    "\n",
    "        res = librosa.icqt(des, sr=22050, bins_per_octave=36)\n",
    "\n",
    "        _, ax = plt.subplots(figsize=(5, 5))\n",
    "        fig, ax = plt.subplots()\n",
    "        img = librosa.display.specshow(librosa.amplitude_to_db(abs(res), x_axis='time', y_axis='cqt_note', ax=ax)\n",
    "        ax.set_title('Constant-Q power spectrum')\n",
    "        fig.colorbar(img, ax=ax, format=\"%+2.0f dB\")\n",
    "        plt.savefig(f\"output-specs/epoch_{epoch+1}_sample_{i}.png\")\n",
    "        plt.close()"
   ]
  },
  {
   "cell_type": "markdown",
   "id": "204b903f",
   "metadata": {},
   "source": [
    "### Plays and plots the magnitude cqt GAN output"
   ]
  },
  {
   "cell_type": "code",
   "execution_count": null,
   "id": "97955960",
   "metadata": {
    "scrolled": true
   },
   "outputs": [],
   "source": [
    "sample = np.load(\"output-arrays/epoch_198_sample_0.npy\")\n",
    "\n",
    "\n",
    "fig, ax = plt.subplots()\n",
    "img = librosa.display.specshow(librosa.amplitude_to_db(sample), x_axis='time', y_axis='cqt_note', ax=ax)\n",
    "ax.set_title('Constant-Q power spectrum')\n",
    "fig.colorbar(img, ax=ax, format=\"%+2.0f dB\")\n",
    "\n",
    "# Invert using Griffin-Lim\n",
    "y_inv = librosa.griffinlim_cqt(sample, n_iter=32, bins_per_octave=36)\n",
    "\n",
    "Audio(data=y_inv, rate = 22050)"
   ]
  },
  {
   "cell_type": "markdown",
   "id": "554a57ed",
   "metadata": {},
   "source": [
    "### Exploration filtering out noise"
   ]
  },
  {
   "cell_type": "code",
   "execution_count": null,
   "id": "95893b6b",
   "metadata": {},
   "outputs": [],
   "source": [
    "sample = np.load(\"epoch_2_sample_1.npy\")\n",
    "print(np.shape(sample))\n",
    "\n",
    "for x in range(256):\n",
    "    for y in range(128):\n",
    "        if sample[x][y] < 0.1: sample[x][y] = 0\n",
    "        "
   ]
  },
  {
   "cell_type": "code",
   "execution_count": null,
   "id": "b15913b9",
   "metadata": {},
   "outputs": [],
   "source": [
    "fig, ax = plt.subplots()\n",
    "img = librosa.display.specshow(librosa.amplitude_to_db(sample), x_axis='time', y_axis='cqt_note', ax=ax)\n",
    "ax.set_title('Constant-Q power spectrum')\n",
    "fig.colorbar(img, ax=ax, format=\"%+2.0f dB\")\n",
    "\n",
    "# Invert using Griffin-Lim\n",
    "y_inv = librosa.griffinlim_cqt(sample, n_iter=32, bins_per_octave=36)\n",
    "\n",
    "Audio(data=y_inv, rate = 22050)"
   ]
  },
  {
   "cell_type": "code",
   "execution_count": null,
   "id": "c75e828a",
   "metadata": {},
   "outputs": [],
   "source": [
    "#ORIGINAL\n",
    "fig, ax = plt.subplots()\n",
    "img = librosa.display.specshow(librosa.amplitude_to_db(sample), x_axis='time', y_axis='cqt_note', ax=ax)\n",
    "ax.set_title('Constant-Q power spectrum')\n",
    "fig.colorbar(img, ax=ax, format=\"%+2.0f dB\")\n",
    "\n",
    "# Invert using Griffin-Lim\n",
    "y_inv = librosa.griffinlim_cqt(sample, n_iter=32, bins_per_octave=36)\n",
    "\n",
    "Audio(data=y_inv, rate = 22050)"
   ]
  },
  {
   "cell_type": "code",
   "execution_count": null,
   "id": "1487efaf",
   "metadata": {},
   "outputs": [],
   "source": [
    "sample = np.load(\"epoch_2_sample_1.npy\")\n",
    "fig, ax = plt.subplots()\n",
    "img = librosa.display.specshow(librosa.amplitude_to_db(sample), x_axis='time', y_axis='cqt_note', ax=ax)\n",
    "ax.set_title('Constant-Q power spectrum')\n",
    "fig.colorbar(img, ax=ax, format=\"%+2.0f dB\")\n",
    "\n",
    "# Invert using Griffin-Lim\n",
    "y_inv = librosa.griffinlim_cqt(sample, n_iter=32, bins_per_octave=36)\n",
    "\n",
    "Audio(data=y_inv, rate = 22050)"
   ]
  },
  {
   "cell_type": "code",
   "execution_count": null,
   "id": "56900d4a",
   "metadata": {},
   "outputs": [],
   "source": []
  }
 ],
 "metadata": {
  "kernelspec": {
   "display_name": "Python 3 (ipykernel)",
   "language": "python",
   "name": "python3"
  },
  "language_info": {
   "codemirror_mode": {
    "name": "ipython",
    "version": 3
   },
   "file_extension": ".py",
   "mimetype": "text/x-python",
   "name": "python",
   "nbconvert_exporter": "python",
   "pygments_lexer": "ipython3",
   "version": "3.9.10"
  }
 },
 "nbformat": 4,
 "nbformat_minor": 5
}
