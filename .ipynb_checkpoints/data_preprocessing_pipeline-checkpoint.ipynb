{
 "cells": [
  {
   "cell_type": "markdown",
   "id": "52ad8eb6",
   "metadata": {},
   "source": [
    "# Data Preprocessing Pipeline\n",
    "Used to prepare audio samples for training a DCGAN."
   ]
  },
  {
   "cell_type": "code",
   "execution_count": null,
   "id": "ffadf01e",
   "metadata": {},
   "outputs": [],
   "source": [
    "import os\n",
    "from pydub import AudioSegment"
   ]
  },
  {
   "cell_type": "markdown",
   "id": "60ab7dba",
   "metadata": {},
   "source": [
    "### Read and plot the clip lengths"
   ]
  },
  {
   "cell_type": "code",
   "execution_count": null,
   "id": "557c8c09",
   "metadata": {},
   "outputs": [],
   "source": [
    "# Source File path\n",
    "source = \"./\"\n",
    "\n",
    "durations = []\n",
    "\n",
    "# Read the duration of each clip in the source file\n",
    "for i, sample in enumerate(os.listdir(source)):\n",
    "    song = AudioSegment.from_mp3(source + sample)\n",
    "    durations.append(song.duration_seconds)"
   ]
  },
  {
   "cell_type": "code",
   "execution_count": null,
   "id": "ed8675d2",
   "metadata": {},
   "outputs": [],
   "source": []
  }
 ],
 "metadata": {
  "kernelspec": {
   "display_name": "Python 3 (ipykernel)",
   "language": "python",
   "name": "python3"
  },
  "language_info": {
   "codemirror_mode": {
    "name": "ipython",
    "version": 3
   },
   "file_extension": ".py",
   "mimetype": "text/x-python",
   "name": "python",
   "nbconvert_exporter": "python",
   "pygments_lexer": "ipython3",
   "version": "3.9.10"
  }
 },
 "nbformat": 4,
 "nbformat_minor": 5
}
