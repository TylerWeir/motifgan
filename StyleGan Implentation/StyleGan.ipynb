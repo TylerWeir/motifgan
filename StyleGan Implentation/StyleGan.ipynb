{
 "cells": [
  {
   "cell_type": "markdown",
   "metadata": {},
   "source": [
    "## StyleGan Implentation"
   ]
  },
  {
   "cell_type": "code",
   "execution_count": null,
   "metadata": {},
   "outputs": [],
   "source": [
    "/home/domenico/Desktop/notebooks/StyleGan/data.np"
   ]
  },
  {
   "cell_type": "code",
   "execution_count": 5,
   "metadata": {},
   "outputs": [],
   "source": [
    "import cv2\n",
    "import os\n",
    "import numpy as np"
   ]
  },
  {
   "cell_type": "code",
   "execution_count": 12,
   "metadata": {},
   "outputs": [
    {
     "data": {
      "text/plain": [
       "(5138, 256, 128)"
      ]
     },
     "execution_count": 12,
     "metadata": {},
     "output_type": "execute_result"
    }
   ],
   "source": [
    "File_Path = \"/home/domenico/Desktop/notebooks/StyleGan/data.npy\"\n",
    "\n",
    "# Loading data\n",
    "data = np.load(File_Path)\n",
    "np.shape(data)\n",
    "# Might have to be squared ex 256 x 256\n",
    "data = np.reshape(data, (5138, 256, 128))\n",
    "np.shape(data)"
   ]
  },
  {
   "cell_type": "markdown",
   "metadata": {},
   "source": [
    "# Doctor From Images to work with out Data.py\n",
    "We have an issue with the fact that the create_from_images takes in a path to an image then converts it to an numpy array. The Orginal Code will be shown below followed by the edited code\n"
   ]
  },
  {
   "cell_type": "markdown",
   "metadata": {},
   "source": [
    "def create_from_images(tfrecord_dir, image_dir, shuffle):\n",
    "    print('Loading images from \"%s\"' % image_dir)\n",
    "    image_filenames = sorted(glob.glob(os.path.join(image_dir, '*')))\n",
    "    if len(image_filenames) == 0:\n",
    "        error('No input images found')\n",
    "\n",
    "    img = np.asarray(PIL.Image.open(image_filenames[0]))\n",
    "    resolution = img.shape[0]\n",
    "    channels = img.shape[2] if img.ndim == 3 else 1\n",
    "    if img.shape[1] != resolution:\n",
    "        error('Input images must have the same width and height')\n",
    "    if resolution != 2 ** int(np.floor(np.log2(resolution))):\n",
    "        error('Input image resolution must be a power-of-two')\n",
    "    if channels not in [1, 3]:\n",
    "        error('Input images must be stored as RGB or grayscale')\n",
    "\n",
    "    with TFRecordExporter(tfrecord_dir, len(image_filenames)) as tfr:\n",
    "        order = tfr.choose_shuffled_order() if shuffle else np.arange(len(image_filenames))\n",
    "        for idx in range(order.size):\n",
    "            img = np.asarray(PIL.Image.open(image_filenames[order[idx]]))\n",
    "            if channels == 1:\n",
    "                img = img[np.newaxis, :, :] # HW => CHW\n",
    "            else:\n",
    "                img = img.transpose([2, 0, 1]) # HWC => CHW\n",
    "            tfr.add_image(img)"
   ]
  },
  {
   "cell_type": "code",
   "execution_count": null,
   "metadata": {},
   "outputs": [],
   "source": [
    "#Test for accessing arrays from data_npy\n",
    "\n",
    "\n"
   ]
  },
  {
   "cell_type": "code",
   "execution_count": 14,
   "metadata": {},
   "outputs": [
    {
     "ename": "SyntaxError",
     "evalue": "invalid syntax (<ipython-input-14-f60be80bfe39>, line 1)",
     "output_type": "error",
     "traceback": [
      "\u001b[0;36m  File \u001b[0;32m\"<ipython-input-14-f60be80bfe39>\"\u001b[0;36m, line \u001b[0;32m1\u001b[0m\n\u001b[0;31m    def create_tf_record(tfrecord_dr, data_npy, shuffle)\u001b[0m\n\u001b[0m                                                        ^\u001b[0m\n\u001b[0;31mSyntaxError\u001b[0m\u001b[0;31m:\u001b[0m invalid syntax\n"
     ]
    }
   ],
   "source": [
    "def create_tf_record(tfrecord_dr, data_npy, shuffle)\n",
    "    print('Creating tfrecords from \"%s\"', data_npy)\n",
    "    \n",
    "    # Need to Test accesing Data\n",
    "\n",
    "def create_from_images(tfrecord_dir, image_dir, shuffle):\n",
    "    print('Loading images from \"%s\"' % image_dir)\n",
    "    image_filenames = sorted(glob.glob(os.path.join(image_dir, '*')))\n",
    "    if len(image_filenames) == 0:\n",
    "        error('No input images found')\n",
    "\n",
    "    img = np.asarray(PIL.Image.open(image_filenames[0]))\n",
    "    resolution = img.shape[0]\n",
    "    channels = img.shape[2] if img.ndim == 3 else 1\n",
    "    if img.shape[1] != resolution:\n",
    "        error('Input images must have the same width and height')\n",
    "    if resolution != 2 ** int(np.floor(np.log2(resolution))):\n",
    "        error('Input image resolution must be a power-of-two')\n",
    "    if channels not in [1, 3]:\n",
    "        error('Input images must be stored as RGB or grayscale')\n",
    "\n",
    "    with TFRecordExporter(tfrecord_dir, len(image_filenames)) as tfr:\n",
    "        order = tfr.choose_shuffled_order() if shuffle else np.arange(len(image_filenames))\n",
    "        for idx in range(order.size):\n",
    "            img = np.asarray(PIL.Image.open(image_filenames[order[idx]]))\n",
    "            if channels == 1:\n",
    "                img = img[np.newaxis, :, :] # HW => CHW\n",
    "            else:\n",
    "                img = img.transpose([2, 0, 1]) # HWC => CHW\n",
    "            tfr.add_image(img)"
   ]
  }
 ],
 "metadata": {
  "kernelspec": {
   "display_name": "Python 3",
   "language": "python",
   "name": "python3"
  },
  "language_info": {
   "codemirror_mode": {
    "name": "ipython",
    "version": 3
   },
   "file_extension": ".py",
   "mimetype": "text/x-python",
   "name": "python",
   "nbconvert_exporter": "python",
   "pygments_lexer": "ipython3",
   "version": "3.8.10"
  }
 },
 "nbformat": 4,
 "nbformat_minor": 4
}
